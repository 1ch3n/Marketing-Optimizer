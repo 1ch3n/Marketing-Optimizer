{
 "cells": [
  {
   "cell_type": "code",
   "execution_count": null,
   "id": "d2491cb3",
   "metadata": {},
   "outputs": [],
   "source": [
    "%load_ext autoreload\n",
    "%autoreload 2"
   ]
  },
  {
   "cell_type": "code",
   "execution_count": null,
   "id": "1197061c",
   "metadata": {
    "scrolled": false
   },
   "outputs": [],
   "source": [
    "from IPython.display import display, HTML\n",
    "display(HTML(\"<style›.container { width:100% !important; }</style>\"))"
   ]
  },
  {
   "cell_type": "code",
   "execution_count": null,
   "id": "30c8dafc",
   "metadata": {},
   "outputs": [],
   "source": [
    "%%javascript\n",
    "IPython.OutputArea.auto_scroll_threshold = 9999;"
   ]
  },
  {
   "cell_type": "code",
   "execution_count": null,
   "id": "85156808",
   "metadata": {},
   "outputs": [],
   "source": [
    "from auto_report_read_file import *"
   ]
  },
  {
   "cell_type": "markdown",
   "id": "e4306201",
   "metadata": {},
   "source": [
    "**Please input the requirements in the following cell**:"
   ]
  },
  {
   "cell_type": "code",
   "execution_count": null,
   "id": "b021d57c",
   "metadata": {},
   "outputs": [],
   "source": [
    "mo = marketing_optimizer(pathname, target_date_sports, target_date_festival, KPI, budget, min_ResetSearch, min_ResetAfterDrinkSearch, min_ShoppingReset)"
   ]
  },
  {
   "cell_type": "code",
   "execution_count": null,
   "id": "d13efd3b",
   "metadata": {},
   "outputs": [],
   "source": []
  }
 ],
 "metadata": {
  "celltoolbar": "Edit Metadata",
  "kernelspec": {
   "display_name": "Python 3 (ipykernel)",
   "language": "python",
   "name": "python3"
  },
  "language_info": {
   "codemirror_mode": {
    "name": "ipython",
    "version": 3
   },
   "file_extension": ".py",
   "mimetype": "text/x-python",
   "name": "python",
   "nbconvert_exporter": "python",
   "pygments_lexer": "ipython3",
   "version": "3.9.13"
  }
 },
 "nbformat": 4,
 "nbformat_minor": 5
}
